{
 "cells": [
  {
   "cell_type": "code",
   "execution_count": 1,
   "id": "b7aa3da7-d969-4a41-8fb6-dcaa0e6bc0a3",
   "metadata": {},
   "outputs": [],
   "source": [
    "from transformers import pipeline"
   ]
  },
  {
   "cell_type": "code",
   "execution_count": 4,
   "id": "261ce05f-554c-4e24-bff5-d3471c574497",
   "metadata": {},
   "outputs": [
    {
     "name": "stderr",
     "output_type": "stream",
     "text": [
      "No model was supplied, defaulted to facebook/bart-large-mnli (https://huggingface.co/facebook/bart-large-mnli)\n"
     ]
    }
   ],
   "source": [
    "classifier = pipeline('zero-shot-classification')"
   ]
  },
  {
   "cell_type": "code",
   "execution_count": 5,
   "id": "4bb59d08-554d-4897-a72a-ecd0f92d1021",
   "metadata": {},
   "outputs": [
    {
     "data": {
      "text/plain": [
       "{'sequence': 'i am watching harry potter',\n",
       " 'labels': ['movies', 'busines', 'sports', 'politics'],\n",
       " 'scores': [0.9083594679832458,\n",
       "  0.042902279645204544,\n",
       "  0.02828446961939335,\n",
       "  0.020453816279768944]}"
      ]
     },
     "execution_count": 5,
     "metadata": {},
     "output_type": "execute_result"
    }
   ],
   "source": [
    "classifier(\n",
    "    'i am watching harry potter',\n",
    "    ['sports', 'politics', 'movies', 'busines']\n",
    ")"
   ]
  },
  {
   "cell_type": "code",
   "execution_count": null,
   "id": "dd0fa76b-e13e-4ce1-a81b-08030871590e",
   "metadata": {},
   "outputs": [],
   "source": []
  }
 ],
 "metadata": {
  "kernelspec": {
   "display_name": "Python 3 (ipykernel)",
   "language": "python",
   "name": "python3"
  },
  "language_info": {
   "codemirror_mode": {
    "name": "ipython",
    "version": 3
   },
   "file_extension": ".py",
   "mimetype": "text/x-python",
   "name": "python",
   "nbconvert_exporter": "python",
   "pygments_lexer": "ipython3",
   "version": "3.7.12"
  }
 },
 "nbformat": 4,
 "nbformat_minor": 5
}
